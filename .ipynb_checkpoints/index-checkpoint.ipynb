{
 "cells": [
  {
   "cell_type": "markdown",
   "id": "83bdd6e2-7c9c-4623-8b88-08f2221c185d",
   "metadata": {},
   "source": [
    "<center><img src=\"https://github.com/DACSS-CSSmeths/guidelines/blob/main/pics/small_logo_ccs_meths.jpg?raw=true\" width=\"700\"/></center>\n",
    "\n",
    "_____\n",
    "<a id='home'></a>\n",
    "\n",
    "\n",
    "# Introduction to Social Simulation in NetLogo\n",
    "\n",
    "## Before we start\n",
    "\n",
    "You need to install NetLogo in your machine. This <a href=\"https://ccl.northwestern.edu/netlogo/download.shtml\" target=\"_blank\">LINK</a> will take you to the page you see below: "
   ]
  },
  {
   "cell_type": "code",
   "execution_count": 5,
   "id": "346da2fb-cfdb-45da-83ff-c402bbef06c1",
   "metadata": {},
   "outputs": [
    {
     "data": {
      "text/html": [
       "<iframe src=\"https://ccl.northwestern.edu/netlogo/download.shtml\" width=\"960\" height=\"569\" ></iframe>\n"
      ],
      "text/plain": [
       "<IPython.core.display.HTML object>"
      ]
     },
     "metadata": {},
     "output_type": "display_data"
    }
   ],
   "source": [
    "%%html\n",
    "<iframe src=\"https://ccl.northwestern.edu/netlogo/download.shtml\" width=\"960\" height=\"569\" ></iframe>"
   ]
  },
  {
   "cell_type": "markdown",
   "id": "03e6c4f4-2aae-4212-a73b-4205512ea30d",
   "metadata": {},
   "source": [
    "You do not need to complete the information, but the NetLogo team would be greatful. When you click **DOWNLOAD** you will see the NetLogo version based on you local machine:"
   ]
  },
  {
   "cell_type": "markdown",
   "id": "753ed204-0457-42e4-bd1a-3d8454af0b4f",
   "metadata": {},
   "source": [
    "# Introduction"
   ]
  },
  {
   "cell_type": "code",
   "execution_count": 7,
   "id": "98f65534-5c4e-48a4-9ae1-6e183d23ddd4",
   "metadata": {},
   "outputs": [
    {
     "data": {
      "text/html": [
       "<iframe src=\"https://ccl.northwestern.edu/netlogo/6.4.0/\" width=\"960\" height=\"569\" ></iframe>\n"
      ],
      "text/plain": [
       "<IPython.core.display.HTML object>"
      ]
     },
     "metadata": {},
     "output_type": "display_data"
    }
   ],
   "source": [
    "%%html\n",
    "<iframe src=\"https://ccl.northwestern.edu/netlogo/6.4.0/\" width=\"960\" height=\"569\" ></iframe>"
   ]
  },
  {
   "cell_type": "markdown",
   "id": "aa222984-8281-42a1-acb4-cd5a9e7d8f67",
   "metadata": {},
   "source": [
    "# Part 1 : Modeling Social Complexity"
   ]
  },
  {
   "cell_type": "code",
   "execution_count": 2,
   "id": "2fc5ed1b-f407-4416-9f68-9bb7e006b36e",
   "metadata": {},
   "outputs": [
    {
     "data": {
      "text/html": [
       "<iframe src=\"https://docs.google.com/presentation/d/e/2PACX-1vQUFcvTdKmh4xpIhb2526g41t5UR2rCK9qoim-HA3xwgcWdYt8PsgCecO2ahHNe52Dxu8tl5Sj1cFEA/pubembed?start=false&loop=false&delayms=3000\" frameborder=\"0\" width=\"960\" height=\"569\" allowfullscreen=\"true\" mozallowfullscreen=\"true\" webkitallowfullscreen=\"true\"></iframe>\n"
      ],
      "text/plain": [
       "<IPython.core.display.HTML object>"
      ]
     },
     "metadata": {},
     "output_type": "display_data"
    }
   ],
   "source": [
    "%%html\n",
    "<iframe src=\"https://docs.google.com/presentation/d/e/2PACX-1vQUFcvTdKmh4xpIhb2526g41t5UR2rCK9qoim-HA3xwgcWdYt8PsgCecO2ahHNe52Dxu8tl5Sj1cFEA/pubembed?start=false&loop=false&delayms=3000\" frameborder=\"0\" width=\"960\" height=\"569\" allowfullscreen=\"true\" mozallowfullscreen=\"true\" webkitallowfullscreen=\"true\"></iframe>"
   ]
  },
  {
   "cell_type": "markdown",
   "id": "edd99012-a8b6-4054-9a31-9a90cf4c61f9",
   "metadata": {},
   "source": [
    "# Part 2: Using NetLogo\n",
    "\n",
    "## Basic of agents and patches\n",
    "\n"
   ]
  },
  {
   "cell_type": "code",
   "execution_count": 26,
   "id": "7cfb6d66-50f4-490c-8959-c41d9999bbec",
   "metadata": {},
   "outputs": [
    {
     "data": {
      "text/html": [
       "<iframe src=\"https://docs.google.com/presentation/d/e/2PACX-1vS6pk9cRXFki_Ubohf8cEgdGw7VAtrGQqcxeaglLrAkBCIpzpv2qk-MafOJT_0imxmr1Ta-g8bNKG42/pubembed?start=false&loop=false&delayms=3000\" frameborder=\"0\" width=\"960\" height=\"569\" allowfullscreen=\"true\" mozallowfullscreen=\"true\" webkitallowfullscreen=\"true\"></iframe>\n"
      ],
      "text/plain": [
       "<IPython.core.display.HTML object>"
      ]
     },
     "metadata": {},
     "output_type": "display_data"
    }
   ],
   "source": [
    "%%html\n",
    "<iframe src=\"https://docs.google.com/presentation/d/e/2PACX-1vS6pk9cRXFki_Ubohf8cEgdGw7VAtrGQqcxeaglLrAkBCIpzpv2qk-MafOJT_0imxmr1Ta-g8bNKG42/pubembed?start=false&loop=false&delayms=3000\" frameborder=\"0\" width=\"960\" height=\"569\" allowfullscreen=\"true\" mozallowfullscreen=\"true\" webkitallowfullscreen=\"true\"></iframe>"
   ]
  },
  {
   "cell_type": "code",
   "execution_count": 14,
   "id": "104a48cf-52e8-424d-8b6f-74d9a217a8e0",
   "metadata": {},
   "outputs": [
    {
     "data": {
      "text/html": [
       "<iframe src=\"setups.html\" width=\"1200\" height=\"569\" ></iframe>\n"
      ],
      "text/plain": [
       "<IPython.core.display.HTML object>"
      ]
     },
     "metadata": {},
     "output_type": "display_data"
    }
   ],
   "source": [
    "%%html\n",
    "<iframe src=\"setups.html\" width=\"1200\" height=\"569\" ></iframe>"
   ]
  },
  {
   "cell_type": "code",
   "execution_count": 15,
   "id": "7c242ae8-9a98-4a90-bc4c-629b5470665f",
   "metadata": {},
   "outputs": [
    {
     "data": {
      "text/html": [
       "<iframe src=\"agentsInWorld.html\" width=\"1200\" height=\"569\" ></iframe>\n"
      ],
      "text/plain": [
       "<IPython.core.display.HTML object>"
      ]
     },
     "metadata": {},
     "output_type": "display_data"
    }
   ],
   "source": [
    "%%html\n",
    "<iframe src=\"agentsInWorld.html\" width=\"1200\" height=\"569\" ></iframe>"
   ]
  },
  {
   "cell_type": "code",
   "execution_count": 17,
   "id": "789e84dd-4344-41dc-a5e5-78bbabd85ce4",
   "metadata": {
    "scrolled": true
   },
   "outputs": [
    {
     "data": {
      "text/html": [
       "<iframe src=\"controlOfExecution.html\".html\" width=\"1200\" height=\"569\" ></iframe>\n"
      ],
      "text/plain": [
       "<IPython.core.display.HTML object>"
      ]
     },
     "metadata": {},
     "output_type": "display_data"
    }
   ],
   "source": [
    "%%html\n",
    "<iframe src=\"controlOfExecution.html\".html\" width=\"1200\" height=\"569\" ></iframe>"
   ]
  },
  {
   "cell_type": "markdown",
   "id": "1a68a1d9-9681-495b-88b9-1eebec549341",
   "metadata": {},
   "source": [
    "## Using the Graphical Interfase"
   ]
  },
  {
   "cell_type": "code",
   "execution_count": 18,
   "id": "4d7c19ff-ecb6-476c-b2ea-5a9a94a6eb70",
   "metadata": {},
   "outputs": [
    {
     "data": {
      "text/html": [
       "<iframe src=\"https://docs.google.com/presentation/d/e/2PACX-1vQJO2nehX442R1ssYM_WHnZEnE5FhhyEtyXTAPvRA56ZO_oYq5Hqopb2KvcoRe1NAmF4l_385E1I99Y/pubembed?start=false&loop=false&delayms=3000\" frameborder=\"0\" width=\"960\" height=\"569\" allowfullscreen=\"true\" mozallowfullscreen=\"true\" webkitallowfullscreen=\"true\"></iframe>\n"
      ],
      "text/plain": [
       "<IPython.core.display.HTML object>"
      ]
     },
     "metadata": {},
     "output_type": "display_data"
    }
   ],
   "source": [
    "%%html\n",
    "<iframe src=\"https://docs.google.com/presentation/d/e/2PACX-1vQJO2nehX442R1ssYM_WHnZEnE5FhhyEtyXTAPvRA56ZO_oYq5Hqopb2KvcoRe1NAmF4l_385E1I99Y/pubembed?start=false&loop=false&delayms=3000\" frameborder=\"0\" width=\"960\" height=\"569\" allowfullscreen=\"true\" mozallowfullscreen=\"true\" webkitallowfullscreen=\"true\"></iframe>"
   ]
  },
  {
   "cell_type": "code",
   "execution_count": 19,
   "id": "98180005-1479-46e6-9f6a-beb834d7b44a",
   "metadata": {},
   "outputs": [
    {
     "data": {
      "text/html": [
       "<iframe src=\"controlFromInterface.html\" width=\"1200\" height=\"569\" ></iframe>\n"
      ],
      "text/plain": [
       "<IPython.core.display.HTML object>"
      ]
     },
     "metadata": {},
     "output_type": "display_data"
    }
   ],
   "source": [
    "%%html\n",
    "<iframe src=\"controlFromInterface.html\" width=\"1200\" height=\"569\" ></iframe>"
   ]
  },
  {
   "cell_type": "code",
   "execution_count": 20,
   "id": "efa304f8-fb07-4f86-a098-acd0a13a635d",
   "metadata": {},
   "outputs": [
    {
     "data": {
      "text/html": [
       "<iframe src=\"DisplayOutput.html\" width=\"1200\" height=\"569\" ></iframe>\n"
      ],
      "text/plain": [
       "<IPython.core.display.HTML object>"
      ]
     },
     "metadata": {},
     "output_type": "display_data"
    }
   ],
   "source": [
    "%%html\n",
    "<iframe src=\"DisplayOutput.html\" width=\"1200\" height=\"569\" ></iframe>"
   ]
  },
  {
   "cell_type": "markdown",
   "id": "2f1fc2f1-832c-4433-8723-bd0df27b9a1d",
   "metadata": {},
   "source": [
    "## Subroutines"
   ]
  },
  {
   "cell_type": "code",
   "execution_count": 25,
   "id": "d39eb6e6-c5b4-4a3b-b36f-e7e1bf897469",
   "metadata": {},
   "outputs": [
    {
     "data": {
      "text/html": [
       "<iframe src=\"https://docs.google.com/presentation/d/e/2PACX-1vTrl32_xcU9yfsrmW7B9DmWjQ_th4IbdRPf9sCR3EN-XPlgTk_K1Cs-C298RnjM8kbOMc0IUZvtQMBS/pubembed?start=false&loop=false&delayms=3000\" frameborder=\"0\" width=\"960\" height=\"569\" allowfullscreen=\"true\" mozallowfullscreen=\"true\" webkitallowfullscreen=\"true\"></iframe>\n"
      ],
      "text/plain": [
       "<IPython.core.display.HTML object>"
      ]
     },
     "metadata": {},
     "output_type": "display_data"
    }
   ],
   "source": [
    "%%html\n",
    "<iframe src=\"https://docs.google.com/presentation/d/e/2PACX-1vTrl32_xcU9yfsrmW7B9DmWjQ_th4IbdRPf9sCR3EN-XPlgTk_K1Cs-C298RnjM8kbOMc0IUZvtQMBS/pubembed?start=false&loop=false&delayms=3000\" frameborder=\"0\" width=\"960\" height=\"569\" allowfullscreen=\"true\" mozallowfullscreen=\"true\" webkitallowfullscreen=\"true\"></iframe>"
   ]
  },
  {
   "cell_type": "code",
   "execution_count": 27,
   "id": "53b928bf-6452-4c67-aaf7-97183ea1673d",
   "metadata": {},
   "outputs": [
    {
     "data": {
      "text/html": [
       "<iframe src=\"subroutines.html\" width=\"1200\" height=\"569\" ></iframe>\n"
      ],
      "text/plain": [
       "<IPython.core.display.HTML object>"
      ]
     },
     "metadata": {},
     "output_type": "display_data"
    }
   ],
   "source": [
    "%%html\n",
    "<iframe src=\"subroutines.html\" width=\"1200\" height=\"569\" ></iframe>"
   ]
  },
  {
   "cell_type": "markdown",
   "id": "2dfc244d-234b-4d6e-b082-1f6299171edd",
   "metadata": {},
   "source": [
    "# Part 3: Experimenting with a model"
   ]
  },
  {
   "cell_type": "code",
   "execution_count": 24,
   "id": "e2a4695e-a826-4bc5-af8a-296d812a935d",
   "metadata": {},
   "outputs": [
    {
     "data": {
      "text/html": [
       "<iframe src=\"https://docs.google.com/presentation/d/e/2PACX-1vQeE7nWLm7zFa-QlVGlKw3tuZdRQnS2LOZ62jv1myQaSHp9qGPWgJU5n-TQh0Ph8cJpxP_-tE4-QR5G/pubembed?start=false&loop=false&delayms=3000\" frameborder=\"0\" width=\"960\" height=\"569\" allowfullscreen=\"true\" mozallowfullscreen=\"true\" webkitallowfullscreen=\"true\"></iframe>\n"
      ],
      "text/plain": [
       "<IPython.core.display.HTML object>"
      ]
     },
     "metadata": {},
     "output_type": "display_data"
    }
   ],
   "source": [
    "%%html\n",
    "<iframe src=\"https://docs.google.com/presentation/d/e/2PACX-1vQeE7nWLm7zFa-QlVGlKw3tuZdRQnS2LOZ62jv1myQaSHp9qGPWgJU5n-TQh0Ph8cJpxP_-tE4-QR5G/pubembed?start=false&loop=false&delayms=3000\" frameborder=\"0\" width=\"960\" height=\"569\" allowfullscreen=\"true\" mozallowfullscreen=\"true\" webkitallowfullscreen=\"true\"></iframe>"
   ]
  },
  {
   "cell_type": "code",
   "execution_count": 23,
   "id": "6a8d43a2-f0c3-4335-a158-84f8b4f626da",
   "metadata": {},
   "outputs": [
    {
     "data": {
      "text/html": [
       "<iframe src=\"Wolf_Sheep_Predation_simpler.html\" width=\"1200\" height=\"569\" ></iframe>\n"
      ],
      "text/plain": [
       "<IPython.core.display.HTML object>"
      ]
     },
     "metadata": {},
     "output_type": "display_data"
    }
   ],
   "source": [
    "%%html\n",
    "<iframe src=\"Wolf_Sheep_Predation_simpler.html\" width=\"1200\" height=\"569\" ></iframe>"
   ]
  },
  {
   "cell_type": "markdown",
   "id": "08c7056a-d5c2-4613-bbbf-ccd59cc77403",
   "metadata": {},
   "source": [
    "<div class=\"alert alert-info\" role=\"alert\">\n",
    "    \n",
    "## You need to use the desktop version to run BehaviorSpace, as NetlogoWeb does not support that functionality yet.\n",
    "</div>\n",
    "\n"
   ]
  }
 ],
 "metadata": {
  "kernelspec": {
   "display_name": "Python 3 (ipykernel)",
   "language": "python",
   "name": "python3"
  },
  "language_info": {
   "codemirror_mode": {
    "name": "ipython",
    "version": 3
   },
   "file_extension": ".py",
   "mimetype": "text/x-python",
   "name": "python",
   "nbconvert_exporter": "python",
   "pygments_lexer": "ipython3",
   "version": "3.10.16"
  }
 },
 "nbformat": 4,
 "nbformat_minor": 5
}
