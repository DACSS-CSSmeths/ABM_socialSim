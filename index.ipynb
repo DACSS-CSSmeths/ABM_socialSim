{
 "cells": [
  {
   "cell_type": "markdown",
   "id": "83bdd6e2-7c9c-4623-8b88-08f2221c185d",
   "metadata": {},
   "source": [
    "<center><img src=\"https://github.com/DACSS-CSSmeths/guidelines/blob/main/pics/small_logo_ccs_meths.jpg?raw=true\" width=\"700\"/></center>\n",
    "\n",
    "_____\n",
    "<a id='home'></a>\n",
    "\n",
    "\n",
    "# Introduction to Social Simulation in NetLogo\n",
    "\n",
    "## Before we start\n",
    "\n",
    "You need to install NetLogo in your machine. This <a href=\"https://ccl.northwestern.edu/netlogo/download.shtml\" target=\"_blank\">LINK</a> will take you to the page you see below: "
   ]
  },
  {
   "cell_type": "code",
   "execution_count": 5,
   "id": "346da2fb-cfdb-45da-83ff-c402bbef06c1",
   "metadata": {},
   "outputs": [
    {
     "data": {
      "text/html": [
       "<iframe src=\"https://ccl.northwestern.edu/netlogo/download.shtml\" width=\"960\" height=\"569\" ></iframe>\n"
      ],
      "text/plain": [
       "<IPython.core.display.HTML object>"
      ]
     },
     "metadata": {},
     "output_type": "display_data"
    }
   ],
   "source": [
    "%%html\n",
    "<iframe src=\"https://ccl.northwestern.edu/netlogo/download.shtml\" width=\"960\" height=\"569\" ></iframe>"
   ]
  },
  {
   "cell_type": "markdown",
   "id": "03e6c4f4-2aae-4212-a73b-4205512ea30d",
   "metadata": {},
   "source": [
    "You do not need to complete the information, but the NetLogo team would be greatful. When you click **DOWNLOAD** you will see the NetLogo version based on you local machine:"
   ]
  },
  {
   "cell_type": "code",
   "execution_count": 7,
   "id": "98f65534-5c4e-48a4-9ae1-6e183d23ddd4",
   "metadata": {},
   "outputs": [
    {
     "data": {
      "text/html": [
       "<iframe src=\"https://ccl.northwestern.edu/netlogo/6.4.0/\" width=\"960\" height=\"569\" ></iframe>\n"
      ],
      "text/plain": [
       "<IPython.core.display.HTML object>"
      ]
     },
     "metadata": {},
     "output_type": "display_data"
    }
   ],
   "source": [
    "%%html\n",
    "<iframe src=\"https://ccl.northwestern.edu/netlogo/6.4.0/\" width=\"960\" height=\"569\" ></iframe>"
   ]
  },
  {
   "cell_type": "markdown",
   "id": "753ed204-0457-42e4-bd1a-3d8454af0b4f",
   "metadata": {},
   "source": [
    "# Introduction"
   ]
  },
  {
   "cell_type": "code",
   "execution_count": 2,
   "id": "2fc5ed1b-f407-4416-9f68-9bb7e006b36e",
   "metadata": {},
   "outputs": [
    {
     "data": {
      "text/html": [
       "<iframe src=\"https://docs.google.com/presentation/d/e/2PACX-1vQUFcvTdKmh4xpIhb2526g41t5UR2rCK9qoim-HA3xwgcWdYt8PsgCecO2ahHNe52Dxu8tl5Sj1cFEA/pubembed?start=false&loop=false&delayms=3000\" frameborder=\"0\" width=\"960\" height=\"569\" allowfullscreen=\"true\" mozallowfullscreen=\"true\" webkitallowfullscreen=\"true\"></iframe>\n"
      ],
      "text/plain": [
       "<IPython.core.display.HTML object>"
      ]
     },
     "metadata": {},
     "output_type": "display_data"
    }
   ],
   "source": [
    "%%html\n",
    "<iframe src=\"https://docs.google.com/presentation/d/e/2PACX-1vQUFcvTdKmh4xpIhb2526g41t5UR2rCK9qoim-HA3xwgcWdYt8PsgCecO2ahHNe52Dxu8tl5Sj1cFEA/pubembed?start=false&loop=false&delayms=3000\" frameborder=\"0\" width=\"960\" height=\"569\" allowfullscreen=\"true\" mozallowfullscreen=\"true\" webkitallowfullscreen=\"true\"></iframe>"
   ]
  },
  {
   "cell_type": "markdown",
   "id": "edd99012-a8b6-4054-9a31-9a90cf4c61f9",
   "metadata": {},
   "source": [
    "# Using NetLogo"
   ]
  },
  {
   "cell_type": "code",
   "execution_count": 12,
   "id": "104a48cf-52e8-424d-8b6f-74d9a217a8e0",
   "metadata": {},
   "outputs": [
    {
     "data": {
      "text/html": [
       "<iframe src=\"setups.html\" width=\"960\" height=\"569\" ></iframe>\n"
      ],
      "text/plain": [
       "<IPython.core.display.HTML object>"
      ]
     },
     "metadata": {},
     "output_type": "display_data"
    }
   ],
   "source": [
    "%%html\n",
    "<iframe src=\"setups.html\" width=\"960\" height=\"569\" ></iframe>"
   ]
  },
  {
   "cell_type": "code",
   "execution_count": null,
   "id": "7c242ae8-9a98-4a90-bc4c-629b5470665f",
   "metadata": {},
   "outputs": [],
   "source": []
  }
 ],
 "metadata": {
  "kernelspec": {
   "display_name": "Python 3 (ipykernel)",
   "language": "python",
   "name": "python3"
  },
  "language_info": {
   "codemirror_mode": {
    "name": "ipython",
    "version": 3
   },
   "file_extension": ".py",
   "mimetype": "text/x-python",
   "name": "python",
   "nbconvert_exporter": "python",
   "pygments_lexer": "ipython3",
   "version": "3.10.16"
  }
 },
 "nbformat": 4,
 "nbformat_minor": 5
}
